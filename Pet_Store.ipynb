{
  "nbformat": 4,
  "nbformat_minor": 0,
  "metadata": {
    "colab": {
      "name": "Pet Store.ipynb",
      "provenance": [],
      "include_colab_link": true
    },
    "kernelspec": {
      "name": "python3",
      "display_name": "Python 3"
    }
  },
  "cells": [
    {
      "cell_type": "markdown",
      "metadata": {
        "id": "view-in-github",
        "colab_type": "text"
      },
      "source": [
        "<a href=\"https://colab.research.google.com/github/kjafar11/ISTLab3/blob/master/Pet_Store.ipynb\" target=\"_parent\"><img src=\"https://colab.research.google.com/assets/colab-badge.svg\" alt=\"Open In Colab\"/></a>"
      ]
    },
    {
      "cell_type": "markdown",
      "metadata": {
        "id": "L_t6ghNJMUAT",
        "colab_type": "text"
      },
      "source": [
        "<img src=\"Pet_Store_Lab.svg\" />"
      ]
    },
    {
      "cell_type": "markdown",
      "metadata": {
        "id": "zuMq021kM-6K",
        "colab_type": "text"
      },
      "source": [
        "In our ER diagram for a pet store we started off with six entities which are Animal, Enclosure, Food, Food Purchases, Loyalty Program, and Animal Purchases.  Our first diagram is Enclosure with the primary key being EnclosureID.  We have two types of enclosures which are attributes for our Enclosure diagram which are Cages and Aquariums. "
      ]
    },
    {
      "cell_type": "markdown",
      "metadata": {
        "id": "nvQ_ul2lN6-2",
        "colab_type": "text"
      },
      "source": [
        "The second diagram is Animal with the primary key being AnimalID.  We have two attributes which are Fish and Pets.  The Enclosure diagram and Animal diagram are related because an enclosure contains an animal, and one closure can contain multiple animals."
      ]
    },
    {
      "cell_type": "markdown",
      "metadata": {
        "id": "0XBXM6bGN_j1",
        "colab_type": "text"
      },
      "source": [
        "The third diagram is Food with a primary key called FoodID.  The attributes of this diagram are Fish_Food and Pet_Food because there are two types of food for the animals.  This is related to the Animal diagram because the food is consumed by the animals and many animals can consume food.  \n"
      ]
    },
    {
      "cell_type": "markdown",
      "metadata": {
        "id": "cwj1D8LDOEqh",
        "colab_type": "text"
      },
      "source": [
        "The fourth diagram is Food Purchases with a primary key called Food_PurchasesID. This diagram has three attributes called Type, Price, and Quantity.  This diagram relates to the Food diagram because the food must be bought in order to obtain it, and multiple purchases can be made to obtain food.  \n"
      ]
    },
    {
      "cell_type": "markdown",
      "metadata": {
        "id": "9bnEKw8jOHi_",
        "colab_type": "text"
      },
      "source": [
        "The fifth diagram is Loyalty Program with a primary key called Loyalty_ProgramID.  This diagram has two attributes called Animal_PurchasesID and Food_PurchasesID, both of which are foreign keys.  The Loyalty Program relates to the Food Purchases diagram because the loyalty members must purchase the food which will create a unique Food_PuchasesID and one loyalty member can make multiple purchases.  \n"
      ]
    },
    {
      "cell_type": "markdown",
      "metadata": {
        "id": "RdX3EI9UOLBH",
        "colab_type": "text"
      },
      "source": [
        "The sixth diagram is Animal Purchases with a primary key called Animal_PurchasesID.  This diagram has three attributes called Adopting_a_pet, Buying_a_fish, and Price.  This diagram relates to Loyalty Program because loyalty members purchase an animal which will create a unique Animal_PurchasesID and one loyalty member can make multiple purchases.\n"
      ]
    }
  ]
}